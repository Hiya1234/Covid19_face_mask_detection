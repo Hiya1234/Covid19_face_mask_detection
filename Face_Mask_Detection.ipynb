{
 "cells": [
  {
   "cell_type": "code",
   "execution_count": 1,
   "metadata": {},
   "outputs": [],
   "source": [
    "import tensorflow as tf\n",
    "from tensorflow.keras.preprocessing.image import ImageDataGenerator\n",
    "from tensorflow.keras.optimizers import RMSprop\n",
    "import os\n",
    "import matplotlib.pyplot as plt\n",
    "import matplotlib.image as mpimg"
   ]
  },
  {
   "cell_type": "code",
   "execution_count": 2,
   "metadata": {},
   "outputs": [],
   "source": [
    "train_data=r'C:\\\\Users\\\\hiya namdeo\\\\ML_projects\\\\Face_mask_detection\\\\data\\\\train'\n",
    "test_data=r'C:\\\\Users\\\\hiya namdeo\\\\ML_projects\\\\Face_mask_detection\\\\data\\\\test'\n",
    "train_with_mask=r'C:\\\\Users\\\\hiya namdeo\\\\ML_projects\\\\Face_mask_detection\\\\data\\\\train\\\\with_mask'\n",
    "train_without_mask=r'C:\\\\Users\\\\hiya namdeo\\\\ML_projects\\\\Face_mask_detection\\\\data\\\\train\\\\without_mask'\n",
    "test_with_mask=r'C:\\\\Users\\\\hiya namdeo\\\\ML_projects\\\\Face_mask_detection\\\\data\\\\test\\\\with_mask'\n",
    "test_without_mask=r'C:\\\\Users\\\\hiya namdeo\\\\ML_projects\\\\Face_mask_detection\\\\data\\\\test\\\\without_mask'"
   ]
  },
  {
   "cell_type": "code",
   "execution_count": 3,
   "metadata": {},
   "outputs": [
    {
     "name": "stdout",
     "output_type": "stream",
     "text": [
      "600\n",
      "596\n",
      "90\n",
      "90\n"
     ]
    }
   ],
   "source": [
    "train_list_with_mask=os.listdir(train_with_mask)\n",
    "print(len(train_list_with_mask))\n",
    "train_list_without_mask=os.listdir(train_without_mask)\n",
    "print(len(train_list_without_mask))\n",
    "\n",
    "test_list_with_mask=os.listdir(test_with_mask)\n",
    "print(len(test_list_with_mask))\n",
    "test_list_without_mask=os.listdir(test_without_mask)\n",
    "print(len(test_list_without_mask))"
   ]
  },
  {
   "cell_type": "code",
   "execution_count": 4,
   "metadata": {},
   "outputs": [
    {
     "name": "stdout",
     "output_type": "stream",
     "text": [
      "Found 1196 images belonging to 2 classes.\n",
      "Found 180 images belonging to 2 classes.\n"
     ]
    }
   ],
   "source": [
    "train_datagen=ImageDataGenerator(rescale=1./255)\n",
    "test_datagen=ImageDataGenerator(rescale=1./255)\n",
    "\n",
    "train_generator=train_datagen.flow_from_directory(train_data,target_size=(300,300),batch_size=128,class_mode='binary')\n",
    "\n",
    "test_generator=test_datagen.flow_from_directory(test_data,target_size=(300,300),batch_size=32,class_mode='binary')\n"
   ]
  },
  {
   "cell_type": "code",
   "execution_count": 31,
   "metadata": {},
   "outputs": [
    {
     "data": {
      "text/plain": [
       "(128,)"
      ]
     },
     "execution_count": 31,
     "metadata": {},
     "output_type": "execute_result"
    }
   ],
   "source": [
    "train_generator[0][1].shape"
   ]
  },
  {
   "cell_type": "code",
   "execution_count": 5,
   "metadata": {},
   "outputs": [
    {
     "name": "stdout",
     "output_type": "stream",
     "text": [
      "WARNING:tensorflow:From C:\\Users\\hiya namdeo\\Anaconda3\\lib\\site-packages\\tensorflow_core\\python\\ops\\resource_variable_ops.py:1630: calling BaseResourceVariable.__init__ (from tensorflow.python.ops.resource_variable_ops) with constraint is deprecated and will be removed in a future version.\n",
      "Instructions for updating:\n",
      "If using Keras pass *_constraint arguments to layers.\n",
      "Model: \"sequential\"\n",
      "_________________________________________________________________\n",
      "Layer (type)                 Output Shape              Param #   \n",
      "=================================================================\n",
      "conv2d (Conv2D)              (None, 298, 298, 16)      448       \n",
      "_________________________________________________________________\n",
      "max_pooling2d (MaxPooling2D) (None, 149, 149, 16)      0         \n",
      "_________________________________________________________________\n",
      "conv2d_1 (Conv2D)            (None, 147, 147, 32)      4640      \n",
      "_________________________________________________________________\n",
      "max_pooling2d_1 (MaxPooling2 (None, 73, 73, 32)        0         \n",
      "_________________________________________________________________\n",
      "conv2d_2 (Conv2D)            (None, 71, 71, 64)        18496     \n",
      "_________________________________________________________________\n",
      "max_pooling2d_2 (MaxPooling2 (None, 35, 35, 64)        0         \n",
      "_________________________________________________________________\n",
      "conv2d_3 (Conv2D)            (None, 33, 33, 64)        36928     \n",
      "_________________________________________________________________\n",
      "max_pooling2d_3 (MaxPooling2 (None, 16, 16, 64)        0         \n",
      "_________________________________________________________________\n",
      "conv2d_4 (Conv2D)            (None, 14, 14, 64)        36928     \n",
      "_________________________________________________________________\n",
      "max_pooling2d_4 (MaxPooling2 (None, 7, 7, 64)          0         \n",
      "_________________________________________________________________\n",
      "flatten (Flatten)            (None, 3136)              0         \n",
      "_________________________________________________________________\n",
      "dense (Dense)                (None, 512)               1606144   \n",
      "_________________________________________________________________\n",
      "dense_1 (Dense)              (None, 1)                 513       \n",
      "=================================================================\n",
      "Total params: 1,704,097\n",
      "Trainable params: 1,704,097\n",
      "Non-trainable params: 0\n",
      "_________________________________________________________________\n"
     ]
    }
   ],
   "source": [
    "model=tf.keras.models.Sequential([\n",
    "    tf.keras.layers.Conv2D(16,(3,3),activation='relu',input_shape=(300,300,3)),\n",
    "    tf.keras.layers.MaxPooling2D(2,2),\n",
    "    tf.keras.layers.Conv2D(32,(3,3),activation='relu'),\n",
    "    tf.keras.layers.MaxPooling2D(2,2),\n",
    "    tf.keras.layers.Conv2D(64,(3,3),activation='relu'),\n",
    "    tf.keras.layers.MaxPooling2D(2,2),\n",
    "    tf.keras.layers.Conv2D(64,(3,3),activation='relu'),\n",
    "    tf.keras.layers.MaxPooling2D(2,2),\n",
    "    tf.keras.layers.Conv2D(64,(3,3),activation='relu'),\n",
    "    tf.keras.layers.MaxPooling2D(2,2),\n",
    "    tf.keras.layers.Flatten(),\n",
    "    tf.keras.layers.Dense(512,activation='relu'),\n",
    "    tf.keras.layers.Dense(1,activation='sigmoid')\n",
    "])\n",
    "model.summary()"
   ]
  },
  {
   "cell_type": "code",
   "execution_count": 6,
   "metadata": {},
   "outputs": [
    {
     "name": "stdout",
     "output_type": "stream",
     "text": [
      "WARNING:tensorflow:From C:\\Users\\hiya namdeo\\Anaconda3\\lib\\site-packages\\tensorflow_core\\python\\ops\\nn_impl.py:183: where (from tensorflow.python.ops.array_ops) is deprecated and will be removed in a future version.\n",
      "Instructions for updating:\n",
      "Use tf.where in 2.0, which has the same broadcast rule as np.where\n"
     ]
    }
   ],
   "source": [
    "model.compile(loss='binary_crossentropy',optimizer='adam',metrics=['accuracy'])"
   ]
  },
  {
   "cell_type": "code",
   "execution_count": 7,
   "metadata": {},
   "outputs": [
    {
     "name": "stdout",
     "output_type": "stream",
     "text": [
      "Epoch 1/10\n",
      "8/8 [==============================] - 38s 5s/step - loss: 0.6679 - acc: 0.5755\n",
      "Epoch 2/10\n",
      "8/8 [==============================] - 44s 6s/step - loss: 0.4210 - acc: 0.8457\n",
      "Epoch 3/10\n",
      "8/8 [==============================] - 48s 6s/step - loss: 0.3097 - acc: 0.8877\n",
      "Epoch 4/10\n",
      "8/8 [==============================] - 45s 6s/step - loss: 0.1785 - acc: 0.9606\n",
      "Epoch 5/10\n",
      "8/8 [==============================] - 44s 6s/step - loss: 0.1062 - acc: 0.9766\n",
      "Epoch 6/10\n",
      "8/8 [==============================] - 45s 6s/step - loss: 0.0722 - acc: 0.9766\n",
      "Epoch 7/10\n",
      "8/8 [==============================] - 51s 6s/step - loss: 0.0730 - acc: 0.9775\n",
      "Epoch 8/10\n",
      "8/8 [==============================] - 48s 6s/step - loss: 0.0435 - acc: 0.9862\n",
      "Epoch 9/10\n",
      "8/8 [==============================] - 43s 5s/step - loss: 0.0430 - acc: 0.9836\n",
      "Epoch 10/10\n",
      "8/8 [==============================] - 51s 6s/step - loss: 0.0358 - acc: 0.9873\n"
     ]
    },
    {
     "data": {
      "text/plain": [
       "<tensorflow.python.keras.callbacks.History at 0x28fb14fc048>"
      ]
     },
     "execution_count": 7,
     "metadata": {},
     "output_type": "execute_result"
    }
   ],
   "source": [
    "model.fit(train_generator,steps_per_epoch=8,epochs=10,verbose=1)"
   ]
  },
  {
   "cell_type": "code",
   "execution_count": 34,
   "metadata": {},
   "outputs": [
    {
     "name": "stdout",
     "output_type": "stream",
     "text": [
      "1.0\n",
      "pred have mask\n"
     ]
    }
   ],
   "source": [
    "import numpy as np\n",
    "from tensorflow.keras.preprocessing import image\n",
    "path=r'C:\\\\Users\\\\hiya namdeo\\\\ML_projects\\\\Face_mask_detection\\\\data\\\\sample_images\\\\mask.jpeg'\n",
    "\n",
    "img=image.load_img(path,target_size=(300,300))\n",
    "x=image.img_to_array(img)\n",
    "x=np.expand_dims(x,axis=0)\n",
    "pred=model.predict(x)\n",
    "print(pred.squeeze())\n",
    "if pred > 0.5:\n",
    "    print(\"pred have mask\")\n",
    "else:\n",
    "    print(\"pred have no mask\")"
   ]
  },
  {
   "cell_type": "code",
   "execution_count": 38,
   "metadata": {},
   "outputs": [
    {
     "name": "stdout",
     "output_type": "stream",
     "text": [
      "0.0\n",
      "pred have no mask\n"
     ]
    }
   ],
   "source": [
    "path=r'C:\\\\Users\\\\hiya namdeo\\\\ML_projects\\\\Face_mask_detection\\\\data\\\\sample_images\\\\no_mask5.jpeg'\n",
    "\n",
    "img=image.load_img(path,target_size=(300,300))\n",
    "x=image.img_to_array(img)\n",
    "x=np.expand_dims(x,axis=0)\n",
    "pred=model.predict(x)\n",
    "print(pred.squeeze())\n",
    "if pred > 0.5:\n",
    "    print(\"pred have mask\")\n",
    "else:\n",
    "    print(\"pred have no mask\")"
   ]
  },
  {
   "cell_type": "code",
   "execution_count": null,
   "metadata": {},
   "outputs": [],
   "source": []
  }
 ],
 "metadata": {
  "kernelspec": {
   "display_name": "Python 3",
   "language": "python",
   "name": "python3"
  },
  "language_info": {
   "codemirror_mode": {
    "name": "ipython",
    "version": 3
   },
   "file_extension": ".py",
   "mimetype": "text/x-python",
   "name": "python",
   "nbconvert_exporter": "python",
   "pygments_lexer": "ipython3",
   "version": "3.7.3"
  }
 },
 "nbformat": 4,
 "nbformat_minor": 2
}
